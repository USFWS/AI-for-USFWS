{
 "cells": [
  {
   "cell_type": "markdown",
   "id": "a8727699",
   "metadata": {},
   "source": [
    "# Converts LabelMe annotations to COCO format"
   ]
  },
  {
   "cell_type": "code",
   "execution_count": null,
   "id": "91211516",
   "metadata": {},
   "outputs": [],
   "source": [
    "# import package\n",
    "import labelme2coco\n",
    "import numpy\n",
    "import PIL\n",
    "import os\n",
    "\n",
    "#os.chdir(\"C:/Users/bpickens/Desktop/Hive_data/Hive_batch3_Oct2023\")\n",
    "os.getcwd()\n",
    "\n",
    "# set directory that contains labelme annotation files and image folder\n",
    "annot_dir = \"C:/Users/bpickens/Desktop/new_SACR/\"\n",
    "\n",
    "#  set export dir\n",
    "export_dir = \"C:/Users/bpickens/Desktop/new_SACR\"\n",
    "\n",
    "# convert labelme annotations to coco annotations\n",
    "labelme2coco.convert(annot_dir, export_dir)"
   ]
  }
 ],
 "metadata": {
  "kernelspec": {
   "display_name": "Python 3 (ipykernel)",
   "language": "python",
   "name": "python3"
  },
  "language_info": {
   "codemirror_mode": {
    "name": "ipython",
    "version": 3
   },
   "file_extension": ".py",
   "mimetype": "text/x-python",
   "name": "python",
   "nbconvert_exporter": "python",
   "pygments_lexer": "ipython3",
   "version": "3.11.5"
  }
 },
 "nbformat": 4,
 "nbformat_minor": 5
}

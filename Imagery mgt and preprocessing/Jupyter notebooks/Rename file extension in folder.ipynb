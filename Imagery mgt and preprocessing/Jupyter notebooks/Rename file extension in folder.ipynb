{
 "cells": [
  {
   "cell_type": "code",
   "execution_count": null,
   "id": "7a55600a-1934-4ae0-a277-5bfceadaebe4",
   "metadata": {},
   "outputs": [],
   "source": [
    "import glob, os\n",
    "\n",
    "# Input dir where file extensions need to be changed\n",
    "os.chdir('F:/AMAPPS_CLASSIFY/silly')\n",
    "\n",
    "for filename in glob.glob('*.JPG'):\n",
    "    print(filename)\n",
    "    pre, ext = os.path.splitext(filename)\n",
    "    os.rename(filename, pre + '.jpg') # enter the new filename extension"
   ]
  }
 ],
 "metadata": {
  "kernelspec": {
   "display_name": "pytorch3",
   "language": "python",
   "name": "pytorch3"
  },
  "language_info": {
   "codemirror_mode": {
    "name": "ipython",
    "version": 3
   },
   "file_extension": ".py",
   "mimetype": "text/x-python",
   "name": "python",
   "nbconvert_exporter": "python",
   "pygments_lexer": "ipython3",
   "version": "3.11.5"
  }
 },
 "nbformat": 4,
 "nbformat_minor": 5
}

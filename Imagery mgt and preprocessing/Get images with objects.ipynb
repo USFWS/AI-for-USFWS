{
 "cells": [
  {
   "cell_type": "code",
   "execution_count": null,
   "id": "37fb2cf1",
   "metadata": {},
   "outputs": [],
   "source": [
    "import pandas\n",
    "import os\n",
    "import csv\n",
    "import shutil\n",
    "\n",
    "# This script is best used after a detection model has been run \n",
    "# The script searches a directory (root_dir) and copies/moves parent images that contain an object to another folder. \n",
    "# These parent images must be already identified in a csv file. \n",
    "\n",
    "# Images are moved/copied to a new folder to reduce necessary data storage. If files are moved, the result \n",
    "# will be a directory with images with objects and a root_dir with empty images; the input is a csv file with a list of parent images \n",
    "# with objects in a column named \"unique_image_jpg\"\n",
    "\n",
    "# Data inputs: \n",
    "# csv data=list of parent images w objects (column header of unique_image_jpg), root_dir = dir of images, dest1 = folder for images w objects\n",
    "\n",
    "csv_data = pandas.read_csv(\"D:/YOLO_2024_March29b_final.csv\")\n",
    "root_dir=\"D:/JPG_2024_March29b\"\n",
    "dest1 = \"D:/Images_w_objects/2024_March29b_parent_images/\"\n",
    "\n",
    "for index, row in csv_data.iterrows(): \n",
    "    target = row['unique_image_jpg']\n",
    "    \n",
    "    for folders, subfolders, files in os.walk(root_dir):\n",
    "        if target in files:\n",
    "            source = os.path.join(folders, target)\n",
    "            print ('Source', source)\n",
    "            shutil.copy(source, dest1) # this can be changed to: shutil.move\n",
    "            print ('Moved!!!')\n",
    "        else:\n",
    "            pass\n",
    "       #     print ('Not moved')"
   ]
  }
 ],
 "metadata": {
  "kernelspec": {
   "display_name": "Python 3 (ipykernel)",
   "language": "python",
   "name": "python3"
  },
  "language_info": {
   "codemirror_mode": {
    "name": "ipython",
    "version": 3
   },
   "file_extension": ".py",
   "mimetype": "text/x-python",
   "name": "python",
   "nbconvert_exporter": "python",
   "pygments_lexer": "ipython3",
   "version": "3.11.5"
  }
 },
 "nbformat": 4,
 "nbformat_minor": 5
}

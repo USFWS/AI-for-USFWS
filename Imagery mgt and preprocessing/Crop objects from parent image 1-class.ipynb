{
 "cells": [
  {
   "cell_type": "code",
   "execution_count": null,
   "id": "1234b5bc-22db-4b37-9835-5059535c8eb3",
   "metadata": {},
   "outputs": [],
   "source": [
    "# Inputs: path = dir with parent images with objects in them; export_path = dir for object crops\n",
    "path = \"F:/AMAPPS_CLASSIFY/winter_parent_images/\"\n",
    "export_path =\"F:/AMAPPS_CLASSIFY/winter_object_crops/\"\n",
    "\n",
    "# Input csv file with unique_image_jpg, xmin, ymin, w, and h of annotation; check on data types\n",
    "csv_data = pandas.read_csv(\"F:/AMAPPS_CLASSIFY/train_test_grouped3.csv\") \n",
    "datatypes = csv_data.dtypes\n",
    "\n",
    "# change data type as needed\n",
    "csv_data['w'] = csv_data['w'].astype('int64')\n",
    "datatypes"
   ]
  },
  {
   "cell_type": "code",
   "execution_count": null,
   "id": "6732bd48",
   "metadata": {},
   "outputs": [],
   "source": [
    "import pandas\n",
    "import cv2 as cv\n",
    "import numpy as np\n",
    "import glob\n",
    "import os\n",
    "import PIL\n",
    "import csv\n",
    "\n",
    "dirs = os.listdir(path) \n",
    "file_list = []\n",
    "for file in dirs:\n",
    "    basename = os.path.splitext(file)[0] + \".jpg\" #take basename (not path) and add .jpg\n",
    "    file_list.append(basename)\n",
    "matches = csv_data[csv_data['unique_image_jpg'].isin(file_list)]\n",
    "\n",
    "for index, row in matches.iterrows(): \n",
    "    new_path = path + row['unique_image_jpg']# +'.jpg'\n",
    "    #print(new_path)\n",
    "    temp1 = cv.imread(new_path, cv.IMREAD_COLOR) \n",
    "    temp1.shape\n",
    "    x = row['xmin'] - 10  # this number can be adjusted, depending on the desired buffer size around the object\n",
    "    if x < 0:\n",
    "        x = 0 \n",
    "    y = row['ymin'] - 10 # this number can be adjusted, depending on the desired buffer size around the object\n",
    "    if y < 0:\n",
    "        y = 0  \n",
    "    w = row['w'] + 20 # this number can be adjusted, depending on the desired buffer size around the object\n",
    "    print(w)\n",
    "    h = row['h'] + 20 # this number can be adjusted, depending on the desired buffer size around the object\n",
    "    # print(xmin_box, ymin_box, xmax_box, ymax_box)\n",
    "    \n",
    "    crops = temp1[y:(y+h), x:(x+w)]\n",
    "    cv.imwrite (export_path + row['object_id_jpg'], crops, [int(cv.IMWRITE_JPEG_QUALITY), 95])\n",
    "    temp5 = export_path + row['object_id_jpg']\n",
    "    print(temp5)"
   ]
  }
 ],
 "metadata": {
  "kernelspec": {
   "display_name": "Python 3 (ipykernel)",
   "language": "python",
   "name": "python3"
  },
  "language_info": {
   "codemirror_mode": {
    "name": "ipython",
    "version": 3
   },
   "file_extension": ".py",
   "mimetype": "text/x-python",
   "name": "python",
   "nbconvert_exporter": "python",
   "pygments_lexer": "ipython3",
   "version": "3.11.5"
  }
 },
 "nbformat": 4,
 "nbformat_minor": 5
}

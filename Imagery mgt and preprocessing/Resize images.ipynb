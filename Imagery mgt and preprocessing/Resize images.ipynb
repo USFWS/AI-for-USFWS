{
 "cells": [
  {
   "cell_type": "code",
   "execution_count": null,
   "id": "0ceef4c0",
   "metadata": {},
   "outputs": [],
   "source": [
    "import os\n",
    "from PIL import Image\n",
    "\n",
    "## Inputs: input_path = dir of orignal images; export_path = dir to place resized images\n",
    "# new_width = width of crop in pixels, new_height = height of crop in pixels\n",
    "new_width = 224\n",
    "new_height = 224\n",
    "input_path = \"F:/AMAPPS_CLASSIFY/winter_train_crops\"\n",
    "export_path = \"F:/AMAPPS_CLASSIFY/winter_train_crops_224x_224/\"\n",
    "os.mkdir(export_path)\n",
    "\n",
    "def batch_resize (img):\n",
    "    for name in os.listdir (input_path):\n",
    "        source = os.path.join(input_path, name)\n",
    "        print(source)\n",
    "        input = Image.open(source)\n",
    "        resize_img = input.resize((new_width, new_height), Image.Resampling.BICUBIC) # Resize by width and height\n",
    "        resize_img.save (export_path + name, quality = 95)\n",
    "\n",
    "# Loop to implement\n",
    "for img in input_path:\n",
    "    batch_resize(img)\n",
    "print(\"done!\")"
   ]
  }
 ],
 "metadata": {
  "kernelspec": {
   "display_name": "Python 3 (ipykernel)",
   "language": "python",
   "name": "python3"
  },
  "language_info": {
   "codemirror_mode": {
    "name": "ipython",
    "version": 3
   },
   "file_extension": ".py",
   "mimetype": "text/x-python",
   "name": "python",
   "nbconvert_exporter": "python",
   "pygments_lexer": "ipython3",
   "version": "3.11.5"
  }
 },
 "nbformat": 4,
 "nbformat_minor": 5
}

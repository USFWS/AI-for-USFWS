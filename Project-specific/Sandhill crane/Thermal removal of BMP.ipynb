{
 "cells": [
  {
   "cell_type": "code",
   "execution_count": null,
   "id": "37fb2cf1",
   "metadata": {},
   "outputs": [],
   "source": [
    "# Load libraries\n",
    "import pandas\n",
    "import cv2 as cv\n",
    "import numpy as np\n",
    "import glob\n",
    "import os\n",
    "import shutil\n",
    "\n",
    "dirs = os.listdir(input_path) # get all files in folder\n",
    "print(dirs)"
   ]
  },
  {
   "cell_type": "code",
   "execution_count": null,
   "id": "e32dc08f",
   "metadata": {},
   "outputs": [],
   "source": [
    "# Inputs: \n",
    "input_path = \"D:/SACR_2023_imagery/Nontargets_2023_20March/20230320_202500/**/*.bmp\"\n",
    "export_path = \"D:/SACR_2023_imagery/all_bmp2\"\n",
    "\n",
    "# Run function\n",
    "for f in glob.glob(input_path, recursive=True):\n",
    "    print(input_path)\n",
    "    shutil.move(f, export_path)"
   ]
  }
 ],
 "metadata": {
  "kernelspec": {
   "display_name": "Python 3 (ipykernel)",
   "language": "python",
   "name": "python3"
  },
  "language_info": {
   "codemirror_mode": {
    "name": "ipython",
    "version": 3
   },
   "file_extension": ".py",
   "mimetype": "text/x-python",
   "name": "python",
   "nbconvert_exporter": "python",
   "pygments_lexer": "ipython3",
   "version": "3.11.5"
  }
 },
 "nbformat": 4,
 "nbformat_minor": 5
}

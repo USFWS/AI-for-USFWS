{
 "cells": [
  {
   "cell_type": "code",
   "execution_count": null,
   "id": "ee92f6da",
   "metadata": {},
   "outputs": [],
   "source": [
    "import argparse\n",
    "import os\n",
    "import gc\n",
    "from PIL import Image\n",
    "import numpy as np\n",
    "import cv2 as cv\n",
    "import pandas as pd\n",
    "import csv\n",
    "import os\n",
    "\n",
    "## Inputs: dir_images = directory for parent images; tiles_export = directory to export tiles to\n",
    "dir_images = \"C:/Users/name/Desktop/parent_images\"\n",
    "tiles_export = \"C:/Users/name/desktop/new_tiles/\"\n",
    "\n",
    "os.chdir(\"C:/Users/folder\")"
   ]
  },
  {
   "cell_type": "markdown",
   "id": "634fc66b",
   "metadata": {},
   "source": [
    "# Create tiles from parent images"
   ]
  },
  {
   "cell_type": "code",
   "execution_count": null,
   "id": "ba2d6730",
   "metadata": {},
   "outputs": [],
   "source": [
    "# Define the function to split the image in half and pad it to make squares; going from 1280x720 pixels to 2 x 736x736 pixel images\n",
    "def tile_file(file: str):\n",
    "    img_name = file.split(os.path.sep)[-1].split('.')[0]\n",
    "    print(img_name)\n",
    "# open image and store as numpy array\n",
    "    img = cv.imread(file, cv.IMREAD_GRAYSCALE)\n",
    "\n",
    "    tile_count = 0\n",
    "    tile_L = img[0:720, 0:640]   \n",
    "    tile_R = img[0:720, 640:1280]\n",
    "# np.pad (top, bottom), (left, right), mean/constant/0/etc.\n",
    "    tile_L_array = np.asarray(tile_L)\n",
    "    tile_L = np.pad(tile_L_array, [(8,8), (48,48)], 'mean')\n",
    "    tile_R_array = np.asarray(tile_R)\n",
    "    tile_R = np.pad(tile_R_array, [(8,8), (48,48)], 'mean')\n",
    "        \n",
    "    tile_name_L = (tiles_export + img_name + \"_tile_L.jpg\")\n",
    "    tile_name_R = (tiles_export + img_name + \"_tile_R.jpg\")\n",
    "    \n",
    "    print(tile_name_L)\n",
    "    print(tile_name_R)\n",
    " \n",
    "    cv.imwrite (tile_name_L, tile_L, [int(cv.IMWRITE_JPEG_QUALITY), 99])\n",
    "    cv.imwrite (tile_name_R, tile_R,[int(cv.IMWRITE_JPEG_QUALITY), 99])"
   ]
  },
  {
   "cell_type": "code",
   "execution_count": null,
   "id": "7af8b2c5-959f-4af9-bfce-6234a61edf78",
   "metadata": {},
   "outputs": [],
   "source": [
    "# Run the function\n",
    "for (root, _, files) in os.walk(dir_images):\n",
    "        for file in files:\n",
    "            path = os.path.join(root, file)\n",
    "            print(f\"Tiling: {file}...\")\n",
    "            tile_file(path)"
   ]
  },
  {
   "cell_type": "code",
   "execution_count": null,
   "id": "87d92bda",
   "metadata": {},
   "outputs": [],
   "source": [
    "# Alternative to deal wih with desktop.ini problem\n",
    "items = os.listdir()\n",
    "items.remove('desktop.ini')\n",
    "\n",
    "for (root, _, files) in os.walk(dir_images):\n",
    "        for file in items:\n",
    "            path = os.path.join(root, file)\n",
    "            print(f\"Tiling: {file}...\")\n",
    "            tile_file(path)"
   ]
  }
 ],
 "metadata": {
  "kernelspec": {
   "display_name": "Python [conda env:pytorch2]",
   "language": "python",
   "name": "conda-env-pytorch2-py"
  },
  "language_info": {
   "codemirror_mode": {
    "name": "ipython",
    "version": 3
   },
   "file_extension": ".py",
   "mimetype": "text/x-python",
   "name": "python",
   "nbconvert_exporter": "python",
   "pygments_lexer": "ipython3",
   "version": "3.11.5"
  }
 },
 "nbformat": 4,
 "nbformat_minor": 5
}
